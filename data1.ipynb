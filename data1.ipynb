{
 "cells": [
  {
   "cell_type": "code",
   "execution_count": 1,
   "metadata": {
    "collapsed": true,
    "ExecuteTime": {
     "end_time": "2024-04-29T13:02:01.477523100Z",
     "start_time": "2024-04-29T13:01:40.381131500Z"
    }
   },
   "outputs": [],
   "source": [
    "import torch\n",
    "import esm\n",
    "\n",
    "# Load the model\n",
    "model, alphabet = esm.pretrained.esm1b_t33_650M_UR50S()\n",
    "model.eval()\n",
    "\n",
    "# Encode a sequence\n",
    "sequence = \"QNGQNVSVANAGWNTVIPAGGTVSFGFQGSYSGANAVPGTFKLNGTTTSPP\"\n",
    "token_ids = torch.tensor([alphabet.encode(sequence)])\n",
    "\n",
    "# Extract features\n",
    "with torch.no_grad():\n",
    "    results = model(token_ids, repr_layers=[33])  # Assuming you are using the last layer\n",
    "features = results[\"representations\"][33]\n",
    "\n",
    "# Optionally, average over all positions to get a single vector for the sequence\n",
    "sequence_feature = features.mean(dim=1)  # Average pooling over positions"
   ]
  },
  {
   "cell_type": "code",
   "execution_count": 2,
   "outputs": [
    {
     "name": "stdout",
     "output_type": "stream",
     "text": [
      "tensor([[ 0.0495,  0.1033, -0.1275,  ...,  0.1056, -0.0707,  0.2026]])\n"
     ]
    }
   ],
   "source": [
    "print(sequence_feature)"
   ],
   "metadata": {
    "collapsed": false,
    "ExecuteTime": {
     "end_time": "2024-04-29T13:03:10.350718300Z",
     "start_time": "2024-04-29T13:03:10.344738700Z"
    }
   }
  },
  {
   "cell_type": "code",
   "execution_count": 3,
   "outputs": [
    {
     "data": {
      "text/plain": "1"
     },
     "execution_count": 3,
     "metadata": {},
     "output_type": "execute_result"
    }
   ],
   "source": [
    "len(sequence_feature)"
   ],
   "metadata": {
    "collapsed": false,
    "ExecuteTime": {
     "end_time": "2024-04-29T13:03:19.855573800Z",
     "start_time": "2024-04-29T13:03:19.841620200Z"
    }
   }
  },
  {
   "cell_type": "code",
   "execution_count": null,
   "outputs": [],
   "source": [],
   "metadata": {
    "collapsed": false
   }
  },
  {
   "cell_type": "code",
   "execution_count": 5,
   "outputs": [
    {
     "data": {
      "text/plain": "torch.Size([1, 1280])"
     },
     "execution_count": 5,
     "metadata": {},
     "output_type": "execute_result"
    }
   ],
   "source": [
    "sequence_feature.size()"
   ],
   "metadata": {
    "collapsed": false,
    "ExecuteTime": {
     "end_time": "2024-04-29T13:04:53.293498600Z",
     "start_time": "2024-04-29T13:04:53.289323700Z"
    }
   }
  },
  {
   "cell_type": "code",
   "execution_count": 1,
   "outputs": [
    {
     "name": "stdout",
     "output_type": "stream",
     "text": [
      "label_0/label0_1.pdb_A: tensor([[ 0.0495,  0.1033, -0.1275,  ...,  0.1056, -0.0707,  0.2026]])\n",
      "label_0/label0_10.pdb_A: tensor([[ 0.0913,  0.1677, -0.0369,  ..., -0.0152,  0.1351,  0.1758]])\n",
      "label_0/label0_11.pdb_A: tensor([[ 0.0072, -0.0317,  0.0952,  ...,  0.0100,  0.0037,  0.1848]])\n",
      "label_0/label0_12.pdb_A: tensor([[ 0.1956,  0.0458,  0.0863,  ..., -0.0335,  0.0896,  0.1447]])\n",
      "label_0/label0_13.pdb_A: tensor([[-0.0164,  0.1004, -0.0674,  ...,  0.1062,  0.0111,  0.1061]])\n",
      "label_0/label0_14.pdb_A: tensor([[ 0.0762, -0.0014, -0.1658,  ...,  0.0143,  0.1025,  0.1602]])\n",
      "label_0/label0_15.pdb_A: tensor([[ 0.1700,  0.0987,  0.0685,  ..., -0.2074,  0.1383,  0.1284]])\n",
      "label_0/label0_16.pdb_A: tensor([[-0.0510,  0.1337, -0.0085,  ...,  0.0610, -0.0762,  0.1816]])\n",
      "label_0/label0_17.pdb_A: tensor([[ 0.0008,  0.1333, -0.0559,  ...,  0.0330,  0.0213,  0.2076]])\n",
      "label_0/label0_18.pdb_A: tensor([[ 0.1060,  0.1239, -0.0622,  ..., -0.0057,  0.0934,  0.1731]])\n",
      "label_0/label0_19.pdb_A: tensor([[ 0.1292,  0.1230, -0.0692,  ...,  0.0463, -0.0090,  0.1600]])\n",
      "label_0/label0_2.pdb_A: tensor([[ 0.1133,  0.0758, -0.0062,  ..., -0.0246,  0.0837,  0.0288]])\n",
      "label_0/label0_20.pdb_A: tensor([[-0.0081,  0.1342,  0.2461,  ...,  0.1666, -0.0508,  0.3024]])\n",
      "label_0/label0_21.pdb_A: tensor([[ 0.0495,  0.1033, -0.1275,  ...,  0.1056, -0.0707,  0.2026]])\n",
      "label_0/label0_22.pdb_A: tensor([[ 0.1133,  0.0758, -0.0062,  ..., -0.0246,  0.0837,  0.0288]])\n",
      "label_0/label0_23.pdb_A: tensor([[ 0.1244,  0.1225,  0.0189,  ..., -0.0671,  0.1106,  0.1663]])\n",
      "label_0/label0_24.pdb_A: tensor([[-0.0535,  0.1870, -0.1167,  ..., -0.1077, -0.1263, -0.0025]])\n",
      "label_0/label0_25.pdb_A: tensor([[ 0.1472,  0.0058, -0.2014,  ..., -0.0224, -0.0078,  0.1911]])\n",
      "label_0/label0_26.pdb_A: tensor([[ 0.1584,  0.1178, -0.0030,  ..., -0.0350,  0.0846,  0.1627]])\n",
      "label_0/label0_27.pdb_A: tensor([[ 0.1243,  0.1415, -0.0359,  ...,  0.0132,  0.1109,  0.3055]])\n",
      "label_0/label0_28.pdb_A: tensor([[0.1544, 0.0816, 0.0976,  ..., 0.0719, 0.1007, 0.2922]])\n",
      "label_0/label0_29.pdb_A: tensor([[ 0.1747, -0.0376,  0.2239,  ..., -0.0748,  0.1448,  0.0310]])\n",
      "label_0/label0_3.pdb_A: tensor([[ 0.1244,  0.1225,  0.0189,  ..., -0.0671,  0.1106,  0.1663]])\n",
      "label_0/label0_30.pdb_A: tensor([[ 0.0913,  0.1677, -0.0369,  ..., -0.0152,  0.1351,  0.1758]])\n",
      "label_0/label0_4.pdb_A: tensor([[-0.0535,  0.1870, -0.1167,  ..., -0.1077, -0.1263, -0.0025]])\n",
      "label_0/label0_5.pdb_A: tensor([[ 0.1472,  0.0058, -0.2014,  ..., -0.0224, -0.0078,  0.1911]])\n",
      "label_0/label0_6.pdb_A: tensor([[ 0.1584,  0.1178, -0.0030,  ..., -0.0350,  0.0846,  0.1627]])\n",
      "label_0/label0_7.pdb_A: tensor([[ 0.1243,  0.1415, -0.0359,  ...,  0.0132,  0.1109,  0.3055]])\n",
      "label_0/label0_8.pdb_A: tensor([[0.1544, 0.0816, 0.0976,  ..., 0.0719, 0.1007, 0.2922]])\n",
      "label_0/label0_9.pdb_A: tensor([[ 0.1747, -0.0376,  0.2239,  ..., -0.0748,  0.1448,  0.0310]])\n",
      "label_1/label1_1.pdb_A: tensor([[ 0.1244,  0.1076,  0.0881,  ..., -0.0247,  0.0661,  0.1552]])\n",
      "label_1/label1_10.pdb_A: tensor([[ 0.0863,  0.1769, -0.0554,  ...,  0.0033, -0.0158,  0.1202]])\n",
      "label_1/label1_11.pdb_A: tensor([[ 0.2454,  0.0181, -0.0207,  ..., -0.0614, -0.0766,  0.1124]])\n",
      "label_1/label1_12.pdb_A: tensor([[ 0.0980,  0.1597, -0.2699,  ..., -0.1076,  0.0698,  0.1298]])\n",
      "label_1/label1_13.pdb_A: tensor([[ 0.1449,  0.2051, -0.2364,  ..., -0.0426, -0.0438,  0.1028]])\n",
      "label_1/label1_14.pdb_A: tensor([[ 0.0435, -0.0168,  0.1883,  ..., -0.0191,  0.0604,  0.1500]])\n",
      "label_1/label1_15.pdb_A: tensor([[ 0.1122,  0.1676, -0.0155,  ..., -0.0785,  0.0367,  0.1184]])\n",
      "label_1/label1_16.pdb_A: tensor([[ 0.1853,  0.1325, -0.0967,  ..., -0.0749,  0.0122,  0.1031]])\n",
      "label_1/label1_17.pdb_A: tensor([[ 0.0958,  0.1565, -0.0254,  ..., -0.0453,  0.0315,  0.0472]])\n",
      "label_1/label1_18.pdb_A: tensor([[ 0.0449,  0.1148,  0.0306,  ..., -0.0575,  0.0445,  0.1640]])\n",
      "label_1/label1_19.pdb_A: tensor([[0.0901, 0.0418, 0.0305,  ..., 0.0287, 0.0721, 0.1923]])\n",
      "label_1/label1_2.pdb_A: tensor([[0.0819, 0.1660, 0.0952,  ..., 0.0167, 0.0927, 0.0756]])\n",
      "label_1/label1_20.pdb_A: tensor([[ 0.1040,  0.1450,  0.0278,  ..., -0.0281,  0.1392,  0.1683]])\n",
      "label_1/label1_21.pdb_A: tensor([[ 0.1244,  0.1076,  0.0881,  ..., -0.0247,  0.0661,  0.1552]])\n",
      "label_1/label1_22.pdb_A: tensor([[0.0819, 0.1660, 0.0952,  ..., 0.0167, 0.0927, 0.0756]])\n",
      "label_1/label1_23.pdb_A: tensor([[ 0.0496,  0.2006, -0.2092,  ..., -0.0084,  0.1229,  0.1961]])\n",
      "label_1/label1_24.pdb_A: tensor([[0.0818, 0.1580, 0.0076,  ..., 0.0057, 0.1605, 0.1576]])\n",
      "label_1/label1_25.pdb_A: tensor([[0.1239, 0.1664, 0.1593,  ..., 0.0039, 0.1329, 0.0629]])\n",
      "label_1/label1_3.pdb_A: tensor([[ 0.0496,  0.2006, -0.2092,  ..., -0.0084,  0.1229,  0.1961]])\n",
      "label_1/label1_4.pdb_A: tensor([[0.0818, 0.1580, 0.0076,  ..., 0.0057, 0.1605, 0.1576]])\n",
      "label_1/label1_5.pdb_A: tensor([[0.1239, 0.1664, 0.1593,  ..., 0.0039, 0.1329, 0.0629]])\n",
      "label_1/label1_6.pdb_A: tensor([[ 0.1377,  0.0968,  0.0236,  ..., -0.0861,  0.0759,  0.1656]])\n",
      "label_1/label1_7.pdb_A: tensor([[ 0.2069,  0.1118,  0.0987,  ..., -0.0552,  0.0455,  0.2305]])\n",
      "label_1/label1_8.pdb_A: tensor([[ 0.1238,  0.1209,  0.1589,  ..., -0.0759,  0.0455,  0.1613]])\n",
      "label_1/label1_9.pdb_A: tensor([[ 0.1736,  0.1679, -0.2112,  ..., -0.0891,  0.0516,  0.1058]])\n",
      "label_2/label2_1.pdb_A: tensor([[ 0.1846,  0.0444, -0.0731,  ...,  0.0371, -0.2015,  0.1452]])\n",
      "label_2/label2_10.pdb_A: tensor([[-0.0130,  0.3565, -0.0226,  ...,  0.0901, -0.1065,  0.0570]])\n",
      "label_2/label2_11.pdb_A: tensor([[0.0898, 0.2790, 0.0318,  ..., 0.1570, 0.0633, 0.0607]])\n",
      "label_2/label2_12.pdb_A: tensor([[ 0.0939,  0.2234,  0.0755,  ..., -0.0244,  0.1141,  0.1996]])\n",
      "label_2/label2_13.pdb_A: tensor([[ 0.0175,  0.3313, -0.0465,  ...,  0.1417,  0.0170,  0.0041]])\n",
      "label_2/label2_14.pdb_A: tensor([[ 0.0086,  0.2995, -0.0502,  ...,  0.1229, -0.0250, -0.0109]])\n",
      "label_2/label2_15.pdb_A: tensor([[ 0.0493,  0.3461, -0.0539,  ...,  0.2076,  0.0067,  0.0368]])\n",
      "label_2/label2_16.pdb_A: tensor([[ 0.1846,  0.0444, -0.0731,  ...,  0.0371, -0.2015,  0.1452]])\n",
      "label_2/label2_17.pdb_A: tensor([[ 0.0179,  0.2803, -0.0015,  ...,  0.0962,  0.0263,  0.0624]])\n",
      "label_2/label2_18.pdb_A: tensor([[-0.0631,  0.2817,  0.0103,  ...,  0.0912, -0.0590,  0.2179]])\n",
      "label_2/label2_19.pdb_A: tensor([[0.1525, 0.1241, 0.0398,  ..., 0.0100, 0.0620, 0.0945]])\n",
      "label_2/label2_2.pdb_A: tensor([[ 0.0179,  0.2803, -0.0015,  ...,  0.0962,  0.0263,  0.0624]])\n",
      "label_2/label2_20.pdb_A: tensor([[ 0.0219,  0.3777, -0.0423,  ...,  0.1610, -0.0751,  0.0152]])\n",
      "label_2/label2_3.pdb_A: tensor([[-0.0631,  0.2817,  0.0103,  ...,  0.0912, -0.0590,  0.2179]])\n",
      "label_2/label2_4.pdb_A: tensor([[0.1525, 0.1241, 0.0398,  ..., 0.0100, 0.0620, 0.0945]])\n",
      "label_2/label2_5.pdb_A: tensor([[ 0.0219,  0.3777, -0.0423,  ...,  0.1610, -0.0751,  0.0152]])\n",
      "label_2/label2_6.pdb_A: tensor([[0.0421, 0.2330, 0.0594,  ..., 0.0581, 0.0495, 0.0631]])\n",
      "label_2/label2_7.pdb_A: tensor([[0.1166, 0.2714, 0.0370,  ..., 0.0371, 0.1659, 0.1576]])\n",
      "label_2/label2_8.pdb_A: tensor([[0.0306, 0.3066, 0.0204,  ..., 0.0876, 0.0134, 0.0774]])\n",
      "label_2/label2_9.pdb_A: tensor([[0.1479, 0.0361, 0.0694,  ..., 0.1310, 0.1893, 0.1076]])\n"
     ]
    }
   ],
   "source": [
    "import os\n",
    "import torch\n",
    "from Bio.PDB import PDBParser, Polypeptide\n",
    "import esm\n",
    "\n",
    "# 定义数据目录\n",
    "data_dir = 'E:/iGEM/前期准备/GCN/data/24.4.18 pdb_3D_dataset'\n",
    "subdirs = ['label_0', 'label_1', 'label_2']\n",
    "\n",
    "# 加载 ESM 模型\n",
    "model, alphabet = esm.pretrained.esm1b_t33_650M_UR50S()\n",
    "model.eval()\n",
    "\n",
    "# PDB 文件解析器\n",
    "parser = PDBParser(QUIET=True)\n",
    "\n",
    "# 提取特征函数\n",
    "def extract_esm_features(sequence):\n",
    "    token_ids = torch.tensor([alphabet.encode(sequence)])\n",
    "    with torch.no_grad():\n",
    "        results = model(token_ids, repr_layers=[33])\n",
    "    features = results['representations'][33]\n",
    "    return features.mean(dim=1)\n",
    "\n",
    "# 提取 PDB 文件的序列\n",
    "def extract_sequences_from_pdb(pdb_file):\n",
    "    structure = parser.get_structure('protein', pdb_file)\n",
    "    sequences = {}\n",
    "    for model in structure:\n",
    "        for chain in model:\n",
    "            ppb = Polypeptide.PPBuilder()\n",
    "            chain_seq = \"\".join([str(pp.get_sequence()) for pp in ppb.build_peptides(chain)])\n",
    "            sequences[chain.id] = chain_seq\n",
    "    return sequences\n",
    "\n",
    "# 遍历文件夹并处理每个 PDB 文件\n",
    "all_features = {}\n",
    "\n",
    "for subdir in subdirs:\n",
    "    subdir_path = os.path.join(data_dir, subdir)\n",
    "    pdb_files = [f for f in os.listdir(subdir_path) if f.endswith('.pdb')]\n",
    "\n",
    "    for pdb_file in pdb_files:\n",
    "        pdb_path = os.path.join(subdir_path, pdb_file)\n",
    "        sequences = extract_sequences_from_pdb(pdb_path)\n",
    "\n",
    "        for chain_id, sequence in sequences.items():\n",
    "            # 提取 ESM 特征\n",
    "            features = extract_esm_features(sequence)\n",
    "            key = f\"{subdir}/{pdb_file}_{chain_id}\"\n",
    "            all_features[key] = features\n",
    "\n",
    "# 打印或保存提取的特征\n",
    "for key, feature in all_features.items():\n",
    "    print(f\"{key}: {feature}\")\n"
   ],
   "metadata": {
    "collapsed": false,
    "ExecuteTime": {
     "end_time": "2024-05-07T11:28:32.239857100Z",
     "start_time": "2024-05-07T11:27:47.682449800Z"
    }
   }
  },
  {
   "cell_type": "markdown",
   "source": [
    "75x1280"
   ],
   "metadata": {
    "collapsed": false
   }
  },
  {
   "cell_type": "code",
   "execution_count": 7,
   "outputs": [
    {
     "ename": "PermissionError",
     "evalue": "[Errno 13] Permission denied: 'E:/iGEM/前期准备/pythonProject/data/24.4.18 pdb_3D_dataset'",
     "output_type": "error",
     "traceback": [
      "\u001B[1;31m---------------------------------------------------------------------------\u001B[0m",
      "\u001B[1;31mPermissionError\u001B[0m                           Traceback (most recent call last)",
      "Cell \u001B[1;32mIn[7], line 74\u001B[0m\n\u001B[0;32m     72\u001B[0m \u001B[38;5;66;03m# 示例用法\u001B[39;00m\n\u001B[0;32m     73\u001B[0m filepath \u001B[38;5;241m=\u001B[39m \u001B[38;5;124m'\u001B[39m\u001B[38;5;124mE:/iGEM/前期准备/pythonProject/data/24.4.18 pdb_3D_dataset\u001B[39m\u001B[38;5;124m'\u001B[39m  \u001B[38;5;66;03m# 使用实际的 PDB 文件路径\u001B[39;00m\n\u001B[1;32m---> 74\u001B[0m graph_data \u001B[38;5;241m=\u001B[39m build_graph_from_esm_features(filepath)\n\u001B[0;32m     76\u001B[0m \u001B[38;5;66;03m# 打印或进一步处理 `graph_data` 对象\u001B[39;00m\n\u001B[0;32m     77\u001B[0m \u001B[38;5;28mprint\u001B[39m(graph_data)\n",
      "Cell \u001B[1;32mIn[7], line 53\u001B[0m, in \u001B[0;36mbuild_graph_from_esm_features\u001B[1;34m(filepath, threshold)\u001B[0m\n\u001B[0;32m     52\u001B[0m \u001B[38;5;28;01mdef\u001B[39;00m \u001B[38;5;21mbuild_graph_from_esm_features\u001B[39m(filepath, threshold\u001B[38;5;241m=\u001B[39m\u001B[38;5;241m6.0\u001B[39m):\n\u001B[1;32m---> 53\u001B[0m     coords, node_features, residue_indices \u001B[38;5;241m=\u001B[39m parse_pdb_and_get_esm_features(filepath)\n\u001B[0;32m     54\u001B[0m     num_residues \u001B[38;5;241m=\u001B[39m \u001B[38;5;28mlen\u001B[39m(residue_indices)\n\u001B[0;32m     56\u001B[0m     \u001B[38;5;66;03m# 构建边关系\u001B[39;00m\n",
      "Cell \u001B[1;32mIn[7], line 12\u001B[0m, in \u001B[0;36mparse_pdb_and_get_esm_features\u001B[1;34m(filepath)\u001B[0m\n\u001B[0;32m     11\u001B[0m \u001B[38;5;28;01mdef\u001B[39;00m \u001B[38;5;21mparse_pdb_and_get_esm_features\u001B[39m(filepath):\n\u001B[1;32m---> 12\u001B[0m     \u001B[38;5;28;01mwith\u001B[39;00m \u001B[38;5;28mopen\u001B[39m(filepath, \u001B[38;5;124m'\u001B[39m\u001B[38;5;124mr\u001B[39m\u001B[38;5;124m'\u001B[39m) \u001B[38;5;28;01mas\u001B[39;00m file:\n\u001B[0;32m     13\u001B[0m         lines \u001B[38;5;241m=\u001B[39m file\u001B[38;5;241m.\u001B[39mreadlines()\n\u001B[0;32m     15\u001B[0m     coords \u001B[38;5;241m=\u001B[39m []\n",
      "File \u001B[1;32mE:\\anconda\\envs\\GCNtorch\\Lib\\site-packages\\IPython\\core\\interactiveshell.py:310\u001B[0m, in \u001B[0;36m_modified_open\u001B[1;34m(file, *args, **kwargs)\u001B[0m\n\u001B[0;32m    303\u001B[0m \u001B[38;5;28;01mif\u001B[39;00m file \u001B[38;5;129;01min\u001B[39;00m {\u001B[38;5;241m0\u001B[39m, \u001B[38;5;241m1\u001B[39m, \u001B[38;5;241m2\u001B[39m}:\n\u001B[0;32m    304\u001B[0m     \u001B[38;5;28;01mraise\u001B[39;00m \u001B[38;5;167;01mValueError\u001B[39;00m(\n\u001B[0;32m    305\u001B[0m         \u001B[38;5;124mf\u001B[39m\u001B[38;5;124m\"\u001B[39m\u001B[38;5;124mIPython won\u001B[39m\u001B[38;5;124m'\u001B[39m\u001B[38;5;124mt let you open fd=\u001B[39m\u001B[38;5;132;01m{\u001B[39;00mfile\u001B[38;5;132;01m}\u001B[39;00m\u001B[38;5;124m by default \u001B[39m\u001B[38;5;124m\"\u001B[39m\n\u001B[0;32m    306\u001B[0m         \u001B[38;5;124m\"\u001B[39m\u001B[38;5;124mas it is likely to crash IPython. If you know what you are doing, \u001B[39m\u001B[38;5;124m\"\u001B[39m\n\u001B[0;32m    307\u001B[0m         \u001B[38;5;124m\"\u001B[39m\u001B[38;5;124myou can use builtins\u001B[39m\u001B[38;5;124m'\u001B[39m\u001B[38;5;124m open.\u001B[39m\u001B[38;5;124m\"\u001B[39m\n\u001B[0;32m    308\u001B[0m     )\n\u001B[1;32m--> 310\u001B[0m \u001B[38;5;28;01mreturn\u001B[39;00m io_open(file, \u001B[38;5;241m*\u001B[39margs, \u001B[38;5;241m*\u001B[39m\u001B[38;5;241m*\u001B[39mkwargs)\n",
      "\u001B[1;31mPermissionError\u001B[0m: [Errno 13] Permission denied: 'E:/iGEM/前期准备/pythonProject/data/24.4.18 pdb_3D_dataset'"
     ]
    }
   ],
   "source": [
    "import numpy as np\n",
    "import torch\n",
    "from torch_geometric.data import Data\n",
    "import esm\n",
    "\n",
    "# 预加载 ESM 模型\n",
    "model, alphabet = esm.pretrained.esm1b_t33_650M_UR50S()\n",
    "model.eval()\n",
    "\n",
    "# 读取 PDB 文件并提取 ESM 特征\n",
    "def parse_pdb_and_get_esm_features(filepath):\n",
    "    with open(filepath, 'r') as file:\n",
    "        lines = file.readlines()\n",
    "\n",
    "    coords = []\n",
    "    sequences = []\n",
    "    current_residue_index = None\n",
    "    chain_sequence = []\n",
    "    residue_indices = []\n",
    "\n",
    "    for line in lines:\n",
    "        if line.startswith('ATOM') and line[13:15].strip() == 'CA':  # 仅考虑α碳\n",
    "            x = float(line[30:38].strip())\n",
    "            y = float(line[38:46].strip())\n",
    "            z = float(line[46:54].strip())\n",
    "            residue_index = int(line[22:26].strip())\n",
    "            residue_type = line[17:20].strip()\n",
    "\n",
    "            if residue_index != current_residue_index:\n",
    "                coords.append((x, y, z))\n",
    "                residue_indices.append(residue_index)\n",
    "                chain_sequence.append(residue_type)\n",
    "                current_residue_index = residue_index\n",
    "\n",
    "    # 将氨基酸3字母代码转换为1字母代码\n",
    "    aa_mapping = {\n",
    "        'ALA': 'A', 'CYS': 'C', 'ASP': 'D', 'GLU': 'E', 'PHE': 'F', 'GLY': 'G', 'HIS': 'H',\n",
    "        'ILE': 'I', 'LYS': 'K', 'LEU': 'L', 'MET': 'M', 'ASN': 'N', 'PRO': 'P', 'GLN': 'Q',\n",
    "        'ARG': 'R', 'SER': 'S', 'THR': 'T', 'VAL': 'V', 'TRP': 'W', 'TYR': 'Y'\n",
    "    }\n",
    "    sequence = ''.join([aa_mapping.get(res, 'X') for res in chain_sequence])  # 默认用'X'表示未知残基类型\n",
    "\n",
    "    # 使用 ESM 模型提取特征\n",
    "    token_ids = torch.tensor([alphabet.encode(sequence)])\n",
    "    with torch.no_grad():\n",
    "        results = model(token_ids, repr_layers=[33])\n",
    "    features = results['representations'][33].squeeze(0)\n",
    "\n",
    "    return coords, features, residue_indices\n",
    "\n",
    "# 构建图结构\n",
    "def build_graph_from_esm_features(filepath, threshold=6.0):\n",
    "    coords, node_features, residue_indices = parse_pdb_and_get_esm_features(filepath)\n",
    "    num_residues = len(residue_indices)\n",
    "\n",
    "    # 构建边关系\n",
    "    edges = []\n",
    "    for i in range(num_residues):\n",
    "        for j in range(i + 1, num_residues):\n",
    "            if np.linalg.norm(np.array(coords[i]) - np.array(coords[j])) < threshold:\n",
    "                edges.append([i, j])\n",
    "                edges.append([j, i])  # 无向图\n",
    "\n",
    "    edge_index = torch.tensor(edges, dtype=torch.long).t().contiguous()\n",
    "\n",
    "    label = torch.tensor([0])  # 假设一个固定标签\n",
    "\n",
    "    # 创建Data对象\n",
    "    data = Data(x=node_features, edge_index=edge_index, y=label)\n",
    "    return data\n",
    "\n",
    "# 示例用法\n",
    "filepath = 'E:/iGEM/前期准备/pythonProject/data/24.4.18 pdb_3D_dataset'  # 使用实际的 PDB 文件路径\n",
    "graph_data = build_graph_from_esm_features(filepath)\n",
    "\n",
    "# 打印或进一步处理 `graph_data` 对象\n",
    "print(graph_data)\n"
   ],
   "metadata": {
    "collapsed": false,
    "ExecuteTime": {
     "end_time": "2024-05-07T11:50:53.297991Z",
     "start_time": "2024-05-07T11:50:35.473282300Z"
    }
   }
  },
  {
   "cell_type": "code",
   "execution_count": 8,
   "outputs": [
    {
     "name": "stdout",
     "output_type": "stream",
     "text": [
      "Data(x=[51, 1280], edge_index=[2, 162], y=[1])\n",
      "Data(x=[34, 1280], edge_index=[2, 140], y=[1])\n",
      "Data(x=[46, 1280], edge_index=[2, 166], y=[1])\n",
      "Data(x=[46, 1280], edge_index=[2, 156], y=[1])\n",
      "Data(x=[52, 1280], edge_index=[2, 174], y=[1])\n",
      "Data(x=[40, 1280], edge_index=[2, 124], y=[1])\n",
      "Data(x=[27, 1280], edge_index=[2, 108], y=[1])\n",
      "Data(x=[44, 1280], edge_index=[2, 128], y=[1])\n",
      "Data(x=[67, 1280], edge_index=[2, 304], y=[1])\n",
      "Data(x=[53, 1280], edge_index=[2, 232], y=[1])\n",
      "Data(x=[64, 1280], edge_index=[2, 238], y=[1])\n",
      "Data(x=[26, 1280], edge_index=[2, 80], y=[1])\n",
      "Data(x=[62, 1280], edge_index=[2, 506], y=[1])\n",
      "Data(x=[51, 1280], edge_index=[2, 162], y=[1])\n",
      "Data(x=[26, 1280], edge_index=[2, 80], y=[1])\n",
      "Data(x=[47, 1280], edge_index=[2, 174], y=[1])\n",
      "Data(x=[47, 1280], edge_index=[2, 266], y=[1])\n",
      "Data(x=[58, 1280], edge_index=[2, 202], y=[1])\n",
      "Data(x=[56, 1280], edge_index=[2, 216], y=[1])\n",
      "Data(x=[65, 1280], edge_index=[2, 232], y=[1])\n",
      "Data(x=[44, 1280], edge_index=[2, 120], y=[1])\n",
      "Data(x=[51, 1280], edge_index=[2, 244], y=[1])\n",
      "Data(x=[47, 1280], edge_index=[2, 174], y=[1])\n",
      "Data(x=[34, 1280], edge_index=[2, 140], y=[1])\n",
      "Data(x=[47, 1280], edge_index=[2, 266], y=[1])\n",
      "Data(x=[58, 1280], edge_index=[2, 202], y=[1])\n",
      "Data(x=[56, 1280], edge_index=[2, 216], y=[1])\n",
      "Data(x=[65, 1280], edge_index=[2, 232], y=[1])\n",
      "Data(x=[44, 1280], edge_index=[2, 120], y=[1])\n",
      "Data(x=[51, 1280], edge_index=[2, 244], y=[1])\n",
      "Data(x=[63, 1280], edge_index=[2, 216], y=[1])\n",
      "Data(x=[61, 1280], edge_index=[2, 198], y=[1])\n",
      "Data(x=[69, 1280], edge_index=[2, 266], y=[1])\n",
      "Data(x=[63, 1280], edge_index=[2, 246], y=[1])\n",
      "Data(x=[64, 1280], edge_index=[2, 234], y=[1])\n",
      "Data(x=[67, 1280], edge_index=[2, 306], y=[1])\n",
      "Data(x=[45, 1280], edge_index=[2, 214], y=[1])\n",
      "Data(x=[55, 1280], edge_index=[2, 232], y=[1])\n",
      "Data(x=[48, 1280], edge_index=[2, 122], y=[1])\n",
      "Data(x=[61, 1280], edge_index=[2, 226], y=[1])\n",
      "Data(x=[67, 1280], edge_index=[2, 320], y=[1])\n",
      "Data(x=[62, 1280], edge_index=[2, 286], y=[1])\n",
      "Data(x=[64, 1280], edge_index=[2, 242], y=[1])\n",
      "Data(x=[63, 1280], edge_index=[2, 216], y=[1])\n",
      "Data(x=[62, 1280], edge_index=[2, 286], y=[1])\n",
      "Data(x=[65, 1280], edge_index=[2, 258], y=[1])\n",
      "Data(x=[66, 1280], edge_index=[2, 178], y=[1])\n",
      "Data(x=[68, 1280], edge_index=[2, 250], y=[1])\n",
      "Data(x=[65, 1280], edge_index=[2, 258], y=[1])\n",
      "Data(x=[66, 1280], edge_index=[2, 178], y=[1])\n",
      "Data(x=[68, 1280], edge_index=[2, 250], y=[1])\n",
      "Data(x=[33, 1280], edge_index=[2, 118], y=[1])\n",
      "Data(x=[66, 1280], edge_index=[2, 240], y=[1])\n",
      "Data(x=[48, 1280], edge_index=[2, 144], y=[1])\n",
      "Data(x=[63, 1280], edge_index=[2, 240], y=[1])\n",
      "Data(x=[64, 1280], edge_index=[2, 254], y=[1])\n",
      "Data(x=[59, 1280], edge_index=[2, 284], y=[1])\n",
      "Data(x=[61, 1280], edge_index=[2, 296], y=[1])\n",
      "Data(x=[59, 1280], edge_index=[2, 244], y=[1])\n",
      "Data(x=[65, 1280], edge_index=[2, 306], y=[1])\n",
      "Data(x=[61, 1280], edge_index=[2, 296], y=[1])\n",
      "Data(x=[54, 1280], edge_index=[2, 264], y=[1])\n",
      "Data(x=[64, 1280], edge_index=[2, 254], y=[1])\n",
      "Data(x=[68, 1280], edge_index=[2, 324], y=[1])\n",
      "Data(x=[65, 1280], edge_index=[2, 284], y=[1])\n",
      "Data(x=[63, 1280], edge_index=[2, 288], y=[1])\n",
      "Data(x=[68, 1280], edge_index=[2, 324], y=[1])\n",
      "Data(x=[52, 1280], edge_index=[2, 254], y=[1])\n",
      "Data(x=[65, 1280], edge_index=[2, 284], y=[1])\n",
      "Data(x=[63, 1280], edge_index=[2, 288], y=[1])\n",
      "Data(x=[52, 1280], edge_index=[2, 254], y=[1])\n",
      "Data(x=[63, 1280], edge_index=[2, 274], y=[1])\n",
      "Data(x=[68, 1280], edge_index=[2, 290], y=[1])\n",
      "Data(x=[65, 1280], edge_index=[2, 330], y=[1])\n",
      "Data(x=[60, 1280], edge_index=[2, 368], y=[1])\n"
     ]
    }
   ],
   "source": [
    "import os\n",
    "import torch\n",
    "import numpy as np\n",
    "from torch_geometric.data import Data\n",
    "import esm\n",
    "\n",
    "# 加载预训练的 ESM 模型\n",
    "model, alphabet = esm.pretrained.esm1b_t33_650M_UR50S()\n",
    "model.eval()\n",
    "\n",
    "# 从 PDB 文件中提取 ESM 特征的函数\n",
    "def parse_pdb_and_get_esm_features(filepath):\n",
    "    with open(filepath, 'r') as file:\n",
    "        lines = file.readlines()\n",
    "\n",
    "    coords = []\n",
    "    sequences = []\n",
    "    current_residue_index = None\n",
    "    chain_sequence = []\n",
    "    residue_indices = []\n",
    "\n",
    "    for line in lines:\n",
    "        if line.startswith('ATOM') and line[13:15].strip() == 'CA':  # 仅考虑 α 碳\n",
    "            x = float(line[30:38].strip())\n",
    "            y = float(line[38:46].strip())\n",
    "            z = float(line[46:54].strip())\n",
    "            residue_index = int(line[22:26].strip())\n",
    "            residue_type = line[17:20].strip()\n",
    "\n",
    "            if residue_index != current_residue_index:\n",
    "                coords.append((x, y, z))\n",
    "                residue_indices.append(residue_index)\n",
    "                chain_sequence.append(residue_type)\n",
    "                current_residue_index = residue_index\n",
    "\n",
    "    # 将氨基酸3字母代码转换为1字母代码\n",
    "    aa_mapping = {\n",
    "        'ALA': 'A', 'CYS': 'C', 'ASP': 'D', 'GLU': 'E', 'PHE': 'F', 'GLY': 'G', 'HIS': 'H',\n",
    "        'ILE': 'I', 'LYS': 'K', 'LEU': 'L', 'MET': 'M', 'ASN': 'N', 'PRO': 'P', 'GLN': 'Q',\n",
    "        'ARG': 'R', 'SER': 'S', 'THR': 'T', 'VAL': 'V', 'TRP': 'W', 'TYR': 'Y'\n",
    "    }\n",
    "    sequence = ''.join([aa_mapping.get(res, 'X') for res in chain_sequence])  # 默认用'X'表示未知残基类型\n",
    "\n",
    "    # 使用 ESM 模型提取特征\n",
    "    token_ids = torch.tensor([alphabet.encode(sequence)])\n",
    "    with torch.no_grad():\n",
    "        results = model(token_ids, repr_layers=[33])\n",
    "    features = results['representations'][33].squeeze(0)\n",
    "\n",
    "    return coords, features, residue_indices\n",
    "\n",
    "# 基于 ESM 特征构建图结构\n",
    "def build_graph_from_esm_features(filepath, threshold=6.0):\n",
    "    coords, node_features, residue_indices = parse_pdb_and_get_esm_features(filepath)\n",
    "    num_residues = len(residue_indices)\n",
    "\n",
    "    # 构建边关系\n",
    "    edges = []\n",
    "    for i in range(num_residues):\n",
    "        for j in range(i + 1, num_residues):\n",
    "            if np.linalg.norm(np.array(coords[i]) - np.array(coords[j])) < threshold:\n",
    "                edges.append([i, j])\n",
    "                edges.append([j, i])  # 无向图\n",
    "\n",
    "    edge_index = torch.tensor(edges, dtype=torch.long).t().contiguous()\n",
    "\n",
    "    label = torch.tensor([0])  # 假设一个固定标签\n",
    "\n",
    "    # 创建 Data 对象\n",
    "    data = Data(x=node_features, edge_index=edge_index, y=label)\n",
    "    return data\n",
    "\n",
    "# 遍历所有文件夹并处理其中的每个 PDB 文件\n",
    "root_dir = 'E:/iGEM/前期准备/GCN/data/24.4.18 pdb_3D_dataset'\n",
    "subdirs = ['label_0', 'label_1', 'label_2']\n",
    "\n",
    "for subdir in subdirs:\n",
    "    subdir_path = os.path.join(root_dir, subdir)\n",
    "\n",
    "    # 检查子文件夹是否存在\n",
    "    if not os.path.isdir(subdir_path):\n",
    "        continue\n",
    "\n",
    "    # 列出当前子文件夹中的所有 PDB 文件\n",
    "    pdb_files = [f for f in os.listdir(subdir_path) if f.endswith('.pdb')]\n",
    "\n",
    "    for pdb_file in pdb_files:\n",
    "        pdb_filepath = os.path.join(subdir_path, pdb_file)\n",
    "\n",
    "        # 调用 `build_graph_from_esm_features` 函数\n",
    "        graph_data = build_graph_from_esm_features(pdb_filepath)\n",
    "\n",
    "        # 打印或进一步处理 `graph_data` 对象\n",
    "        print(graph_data)\n"
   ],
   "metadata": {
    "collapsed": false,
    "ExecuteTime": {
     "end_time": "2024-05-07T11:57:53.407910300Z",
     "start_time": "2024-05-07T11:56:38.819999900Z"
    }
   }
  },
  {
   "cell_type": "code",
   "execution_count": 1,
   "outputs": [
    {
     "name": "stdout",
     "output_type": "stream",
     "text": [
      "[Data(x=[51, 1280], edge_index=[2, 162], y=[1]), Data(x=[34, 1280], edge_index=[2, 140], y=[1]), Data(x=[46, 1280], edge_index=[2, 166], y=[1]), Data(x=[46, 1280], edge_index=[2, 156], y=[1]), Data(x=[52, 1280], edge_index=[2, 174], y=[1]), Data(x=[40, 1280], edge_index=[2, 124], y=[1]), Data(x=[27, 1280], edge_index=[2, 108], y=[1]), Data(x=[44, 1280], edge_index=[2, 128], y=[1]), Data(x=[67, 1280], edge_index=[2, 304], y=[1]), Data(x=[53, 1280], edge_index=[2, 232], y=[1]), Data(x=[64, 1280], edge_index=[2, 238], y=[1]), Data(x=[26, 1280], edge_index=[2, 80], y=[1]), Data(x=[62, 1280], edge_index=[2, 506], y=[1]), Data(x=[51, 1280], edge_index=[2, 162], y=[1]), Data(x=[26, 1280], edge_index=[2, 80], y=[1]), Data(x=[47, 1280], edge_index=[2, 174], y=[1]), Data(x=[47, 1280], edge_index=[2, 266], y=[1]), Data(x=[58, 1280], edge_index=[2, 202], y=[1]), Data(x=[56, 1280], edge_index=[2, 216], y=[1]), Data(x=[65, 1280], edge_index=[2, 232], y=[1]), Data(x=[44, 1280], edge_index=[2, 120], y=[1]), Data(x=[51, 1280], edge_index=[2, 244], y=[1]), Data(x=[47, 1280], edge_index=[2, 174], y=[1]), Data(x=[34, 1280], edge_index=[2, 140], y=[1]), Data(x=[47, 1280], edge_index=[2, 266], y=[1]), Data(x=[58, 1280], edge_index=[2, 202], y=[1]), Data(x=[56, 1280], edge_index=[2, 216], y=[1]), Data(x=[65, 1280], edge_index=[2, 232], y=[1]), Data(x=[44, 1280], edge_index=[2, 120], y=[1]), Data(x=[51, 1280], edge_index=[2, 244], y=[1]), Data(x=[63, 1280], edge_index=[2, 216], y=[1]), Data(x=[61, 1280], edge_index=[2, 198], y=[1]), Data(x=[69, 1280], edge_index=[2, 266], y=[1]), Data(x=[63, 1280], edge_index=[2, 246], y=[1]), Data(x=[64, 1280], edge_index=[2, 234], y=[1]), Data(x=[67, 1280], edge_index=[2, 306], y=[1]), Data(x=[45, 1280], edge_index=[2, 214], y=[1]), Data(x=[55, 1280], edge_index=[2, 232], y=[1]), Data(x=[48, 1280], edge_index=[2, 122], y=[1]), Data(x=[61, 1280], edge_index=[2, 226], y=[1]), Data(x=[67, 1280], edge_index=[2, 320], y=[1]), Data(x=[62, 1280], edge_index=[2, 286], y=[1]), Data(x=[64, 1280], edge_index=[2, 242], y=[1]), Data(x=[63, 1280], edge_index=[2, 216], y=[1]), Data(x=[62, 1280], edge_index=[2, 286], y=[1]), Data(x=[65, 1280], edge_index=[2, 258], y=[1]), Data(x=[66, 1280], edge_index=[2, 178], y=[1]), Data(x=[68, 1280], edge_index=[2, 250], y=[1]), Data(x=[65, 1280], edge_index=[2, 258], y=[1]), Data(x=[66, 1280], edge_index=[2, 178], y=[1]), Data(x=[68, 1280], edge_index=[2, 250], y=[1]), Data(x=[33, 1280], edge_index=[2, 118], y=[1]), Data(x=[66, 1280], edge_index=[2, 240], y=[1]), Data(x=[48, 1280], edge_index=[2, 144], y=[1]), Data(x=[63, 1280], edge_index=[2, 240], y=[1]), Data(x=[64, 1280], edge_index=[2, 254], y=[1]), Data(x=[59, 1280], edge_index=[2, 284], y=[1]), Data(x=[61, 1280], edge_index=[2, 296], y=[1]), Data(x=[59, 1280], edge_index=[2, 244], y=[1]), Data(x=[65, 1280], edge_index=[2, 306], y=[1]), Data(x=[61, 1280], edge_index=[2, 296], y=[1]), Data(x=[54, 1280], edge_index=[2, 264], y=[1]), Data(x=[64, 1280], edge_index=[2, 254], y=[1]), Data(x=[68, 1280], edge_index=[2, 324], y=[1]), Data(x=[65, 1280], edge_index=[2, 284], y=[1]), Data(x=[63, 1280], edge_index=[2, 288], y=[1]), Data(x=[68, 1280], edge_index=[2, 324], y=[1]), Data(x=[52, 1280], edge_index=[2, 254], y=[1]), Data(x=[65, 1280], edge_index=[2, 284], y=[1]), Data(x=[63, 1280], edge_index=[2, 288], y=[1]), Data(x=[52, 1280], edge_index=[2, 254], y=[1]), Data(x=[63, 1280], edge_index=[2, 274], y=[1]), Data(x=[68, 1280], edge_index=[2, 290], y=[1]), Data(x=[65, 1280], edge_index=[2, 330], y=[1]), Data(x=[60, 1280], edge_index=[2, 368], y=[1])]\n",
      "Total graphs loaded: 75\n"
     ]
    }
   ],
   "source": [
    "import os\n",
    "import torch\n",
    "import numpy as np\n",
    "from torch_geometric.data import Data\n",
    "import esm\n",
    "\n",
    "# 加载预训练的 ESM 模型\n",
    "model, alphabet = esm.pretrained.esm1b_t33_650M_UR50S()\n",
    "model.eval()\n",
    "\n",
    "# 从 PDB 文件中提取 ESM 特征的函数\n",
    "def parse_pdb_and_get_esm_features(filepath):\n",
    "    with open(filepath, 'r') as file:\n",
    "        lines = file.readlines()\n",
    "\n",
    "    coords = []\n",
    "    chain_sequence = []\n",
    "    residue_indices = []\n",
    "    current_residue_index = None\n",
    "\n",
    "    for line in lines:\n",
    "        if line.startswith('ATOM') and line[13:15].strip() == 'CA':  # 仅考虑 α 碳\n",
    "            x = float(line[30:38].strip())\n",
    "            y = float(line[38:46].strip())\n",
    "            z = float(line[46:54].strip())\n",
    "            residue_index = int(line[22:26].strip())\n",
    "            residue_type = line[17:20].strip()\n",
    "\n",
    "            if residue_index != current_residue_index:\n",
    "                coords.append((x, y, z))\n",
    "                residue_indices.append(residue_index)\n",
    "                chain_sequence.append(residue_type)\n",
    "                current_residue_index = residue_index\n",
    "\n",
    "    # 将氨基酸 3 字母代码转换为 1 字母代码\n",
    "    aa_mapping = {\n",
    "        'ALA': 'A', 'CYS': 'C', 'ASP': 'D', 'GLU': 'E', 'PHE': 'F', 'GLY': 'G', 'HIS': 'H',\n",
    "        'ILE': 'I', 'LYS': 'K', 'LEU': 'L', 'MET': 'M', 'ASN': 'N', 'PRO': 'P', 'GLN': 'Q',\n",
    "        'ARG': 'R', 'SER': 'S', 'THR': 'T', 'VAL': 'V', 'TRP': 'W', 'TYR': 'Y'\n",
    "    }\n",
    "    sequence = ''.join([aa_mapping.get(res, 'X') for res in chain_sequence])  # 默认用 'X' 表示未知残基类型\n",
    "\n",
    "    # 使用 ESM 模型提取特征\n",
    "    token_ids = torch.tensor([alphabet.encode(sequence)])\n",
    "    with torch.no_grad():\n",
    "        results = model(token_ids, repr_layers=[33])\n",
    "    features = results['representations'][33].squeeze(0)\n",
    "\n",
    "    return coords, features, residue_indices\n",
    "\n",
    "# 基于 ESM 特征构建图结构\n",
    "def build_graph_from_esm_features(filepath, threshold=6.0):\n",
    "    coords, node_features, residue_indices = parse_pdb_and_get_esm_features(filepath)\n",
    "    num_residues = len(residue_indices)\n",
    "\n",
    "    # 构建边关系\n",
    "    edges = []\n",
    "    for i in range(num_residues):\n",
    "        for j in range(i + 1, num_residues):\n",
    "            if np.linalg.norm(np.array(coords[i]) - np.array(coords[j])) < threshold:\n",
    "                edges.append([i, j])\n",
    "                edges.append([j, i])  # 无向图\n",
    "\n",
    "    edge_index = torch.tensor(edges, dtype=torch.long).t().contiguous()\n",
    "\n",
    "    # 创建 Data 对象\n",
    "    data = Data(x=node_features, edge_index=edge_index, y=torch.tensor([0]))  # 默认标签为 0\n",
    "    return data\n",
    "\n",
    "# 创建 graph_data_list 的函数\n",
    "def create_graph_data_list(root_dir, subdirs):\n",
    "    graph_data_list = []\n",
    "\n",
    "    for subdir in subdirs:\n",
    "        subdir_path = os.path.join(root_dir, subdir)\n",
    "\n",
    "        # 检查子文件夹是否存在\n",
    "        if not os.path.isdir(subdir_path):\n",
    "            continue\n",
    "\n",
    "        # 列出当前子文件夹中的所有 PDB 文件\n",
    "        pdb_files = [f for f in os.listdir(subdir_path) if f.endswith('.pdb')]\n",
    "\n",
    "        for pdb_file in pdb_files:\n",
    "            pdb_filepath = os.path.join(subdir_path, pdb_file)\n",
    "\n",
    "            # 调用 `build_graph_from_esm_features` 函数\n",
    "            graph_data = build_graph_from_esm_features(pdb_filepath)\n",
    "\n",
    "            # 根据子文件夹设置 graph_data 的 `y` 属性\n",
    "            if 'label_0' in subdir:\n",
    "                graph_data.y = torch.tensor([0])\n",
    "            elif 'label_1' in subdir:\n",
    "                graph_data.y = torch.tensor([1])\n",
    "            elif 'label_2' in subdir:\n",
    "                graph_data.y = torch.tensor([2])\n",
    "\n",
    "            # 将图数据对象加入列表\n",
    "            graph_data_list.append(graph_data)\n",
    "\n",
    "    return graph_data_list\n",
    "\n",
    "# 使用创建的函数\n",
    "root_dir = 'E:/iGEM/前期准备/GCN/data/24.4.18 pdb_3D_dataset'\n",
    "subdirs = ['label_0', 'label_1', 'label_2']\n",
    "graph_data_list = create_graph_data_list(root_dir, subdirs)\n",
    "print(graph_data_list)\n",
    "print(f'Total graphs loaded: {len(graph_data_list)}')\n"
   ],
   "metadata": {
    "collapsed": false,
    "ExecuteTime": {
     "end_time": "2024-05-10T14:32:19.406556900Z",
     "start_time": "2024-05-10T14:30:38.807082300Z"
    }
   }
  },
  {
   "cell_type": "code",
   "execution_count": 17,
   "outputs": [
    {
     "ename": "ValueError",
     "evalue": "x and y must have same first dimension, but have shapes (80,) and (76,)",
     "output_type": "error",
     "traceback": [
      "\u001B[1;31m---------------------------------------------------------------------------\u001B[0m",
      "\u001B[1;31mValueError\u001B[0m                                Traceback (most recent call last)",
      "Cell \u001B[1;32mIn[17], line 13\u001B[0m\n\u001B[0;32m     11\u001B[0m \u001B[38;5;66;03m# 绘制训练损失曲线\u001B[39;00m\n\u001B[0;32m     12\u001B[0m plt\u001B[38;5;241m.\u001B[39msubplot(\u001B[38;5;241m1\u001B[39m, \u001B[38;5;241m2\u001B[39m, \u001B[38;5;241m1\u001B[39m)\n\u001B[1;32m---> 13\u001B[0m plt\u001B[38;5;241m.\u001B[39mplot(epochs, train_loss, label\u001B[38;5;241m=\u001B[39m\u001B[38;5;124m'\u001B[39m\u001B[38;5;124mTrain Loss\u001B[39m\u001B[38;5;124m'\u001B[39m, color\u001B[38;5;241m=\u001B[39m\u001B[38;5;124m'\u001B[39m\u001B[38;5;124mblue\u001B[39m\u001B[38;5;124m'\u001B[39m)\n\u001B[0;32m     14\u001B[0m plt\u001B[38;5;241m.\u001B[39mtitle(\u001B[38;5;124m'\u001B[39m\u001B[38;5;124mTraining Loss\u001B[39m\u001B[38;5;124m'\u001B[39m)\n\u001B[0;32m     15\u001B[0m plt\u001B[38;5;241m.\u001B[39mxlabel(\u001B[38;5;124m'\u001B[39m\u001B[38;5;124mEpochs\u001B[39m\u001B[38;5;124m'\u001B[39m)\n",
      "File \u001B[1;32mE:\\anconda\\envs\\GCNtorch\\Lib\\site-packages\\matplotlib\\pyplot.py:3590\u001B[0m, in \u001B[0;36mplot\u001B[1;34m(scalex, scaley, data, *args, **kwargs)\u001B[0m\n\u001B[0;32m   3582\u001B[0m \u001B[38;5;129m@_copy_docstring_and_deprecators\u001B[39m(Axes\u001B[38;5;241m.\u001B[39mplot)\n\u001B[0;32m   3583\u001B[0m \u001B[38;5;28;01mdef\u001B[39;00m \u001B[38;5;21mplot\u001B[39m(\n\u001B[0;32m   3584\u001B[0m     \u001B[38;5;241m*\u001B[39margs: \u001B[38;5;28mfloat\u001B[39m \u001B[38;5;241m|\u001B[39m ArrayLike \u001B[38;5;241m|\u001B[39m \u001B[38;5;28mstr\u001B[39m,\n\u001B[1;32m   (...)\u001B[0m\n\u001B[0;32m   3588\u001B[0m     \u001B[38;5;241m*\u001B[39m\u001B[38;5;241m*\u001B[39mkwargs,\n\u001B[0;32m   3589\u001B[0m ) \u001B[38;5;241m-\u001B[39m\u001B[38;5;241m>\u001B[39m \u001B[38;5;28mlist\u001B[39m[Line2D]:\n\u001B[1;32m-> 3590\u001B[0m     \u001B[38;5;28;01mreturn\u001B[39;00m gca()\u001B[38;5;241m.\u001B[39mplot(\n\u001B[0;32m   3591\u001B[0m         \u001B[38;5;241m*\u001B[39margs,\n\u001B[0;32m   3592\u001B[0m         scalex\u001B[38;5;241m=\u001B[39mscalex,\n\u001B[0;32m   3593\u001B[0m         scaley\u001B[38;5;241m=\u001B[39mscaley,\n\u001B[0;32m   3594\u001B[0m         \u001B[38;5;241m*\u001B[39m\u001B[38;5;241m*\u001B[39m({\u001B[38;5;124m\"\u001B[39m\u001B[38;5;124mdata\u001B[39m\u001B[38;5;124m\"\u001B[39m: data} \u001B[38;5;28;01mif\u001B[39;00m data \u001B[38;5;129;01mis\u001B[39;00m \u001B[38;5;129;01mnot\u001B[39;00m \u001B[38;5;28;01mNone\u001B[39;00m \u001B[38;5;28;01melse\u001B[39;00m {}),\n\u001B[0;32m   3595\u001B[0m         \u001B[38;5;241m*\u001B[39m\u001B[38;5;241m*\u001B[39mkwargs,\n\u001B[0;32m   3596\u001B[0m     )\n",
      "File \u001B[1;32mE:\\anconda\\envs\\GCNtorch\\Lib\\site-packages\\matplotlib\\axes\\_axes.py:1724\u001B[0m, in \u001B[0;36mAxes.plot\u001B[1;34m(self, scalex, scaley, data, *args, **kwargs)\u001B[0m\n\u001B[0;32m   1481\u001B[0m \u001B[38;5;250m\u001B[39m\u001B[38;5;124;03m\"\"\"\u001B[39;00m\n\u001B[0;32m   1482\u001B[0m \u001B[38;5;124;03mPlot y versus x as lines and/or markers.\u001B[39;00m\n\u001B[0;32m   1483\u001B[0m \n\u001B[1;32m   (...)\u001B[0m\n\u001B[0;32m   1721\u001B[0m \u001B[38;5;124;03m(``'green'``) or hex strings (``'#008000'``).\u001B[39;00m\n\u001B[0;32m   1722\u001B[0m \u001B[38;5;124;03m\"\"\"\u001B[39;00m\n\u001B[0;32m   1723\u001B[0m kwargs \u001B[38;5;241m=\u001B[39m cbook\u001B[38;5;241m.\u001B[39mnormalize_kwargs(kwargs, mlines\u001B[38;5;241m.\u001B[39mLine2D)\n\u001B[1;32m-> 1724\u001B[0m lines \u001B[38;5;241m=\u001B[39m [\u001B[38;5;241m*\u001B[39m\u001B[38;5;28mself\u001B[39m\u001B[38;5;241m.\u001B[39m_get_lines(\u001B[38;5;28mself\u001B[39m, \u001B[38;5;241m*\u001B[39margs, data\u001B[38;5;241m=\u001B[39mdata, \u001B[38;5;241m*\u001B[39m\u001B[38;5;241m*\u001B[39mkwargs)]\n\u001B[0;32m   1725\u001B[0m \u001B[38;5;28;01mfor\u001B[39;00m line \u001B[38;5;129;01min\u001B[39;00m lines:\n\u001B[0;32m   1726\u001B[0m     \u001B[38;5;28mself\u001B[39m\u001B[38;5;241m.\u001B[39madd_line(line)\n",
      "File \u001B[1;32mE:\\anconda\\envs\\GCNtorch\\Lib\\site-packages\\matplotlib\\axes\\_base.py:303\u001B[0m, in \u001B[0;36m_process_plot_var_args.__call__\u001B[1;34m(self, axes, data, *args, **kwargs)\u001B[0m\n\u001B[0;32m    301\u001B[0m     this \u001B[38;5;241m+\u001B[39m\u001B[38;5;241m=\u001B[39m args[\u001B[38;5;241m0\u001B[39m],\n\u001B[0;32m    302\u001B[0m     args \u001B[38;5;241m=\u001B[39m args[\u001B[38;5;241m1\u001B[39m:]\n\u001B[1;32m--> 303\u001B[0m \u001B[38;5;28;01myield from\u001B[39;00m \u001B[38;5;28mself\u001B[39m\u001B[38;5;241m.\u001B[39m_plot_args(\n\u001B[0;32m    304\u001B[0m     axes, this, kwargs, ambiguous_fmt_datakey\u001B[38;5;241m=\u001B[39mambiguous_fmt_datakey)\n",
      "File \u001B[1;32mE:\\anconda\\envs\\GCNtorch\\Lib\\site-packages\\matplotlib\\axes\\_base.py:499\u001B[0m, in \u001B[0;36m_process_plot_var_args._plot_args\u001B[1;34m(self, axes, tup, kwargs, return_kwargs, ambiguous_fmt_datakey)\u001B[0m\n\u001B[0;32m    496\u001B[0m     axes\u001B[38;5;241m.\u001B[39myaxis\u001B[38;5;241m.\u001B[39mupdate_units(y)\n\u001B[0;32m    498\u001B[0m \u001B[38;5;28;01mif\u001B[39;00m x\u001B[38;5;241m.\u001B[39mshape[\u001B[38;5;241m0\u001B[39m] \u001B[38;5;241m!=\u001B[39m y\u001B[38;5;241m.\u001B[39mshape[\u001B[38;5;241m0\u001B[39m]:\n\u001B[1;32m--> 499\u001B[0m     \u001B[38;5;28;01mraise\u001B[39;00m \u001B[38;5;167;01mValueError\u001B[39;00m(\u001B[38;5;124mf\u001B[39m\u001B[38;5;124m\"\u001B[39m\u001B[38;5;124mx and y must have same first dimension, but \u001B[39m\u001B[38;5;124m\"\u001B[39m\n\u001B[0;32m    500\u001B[0m                      \u001B[38;5;124mf\u001B[39m\u001B[38;5;124m\"\u001B[39m\u001B[38;5;124mhave shapes \u001B[39m\u001B[38;5;132;01m{\u001B[39;00mx\u001B[38;5;241m.\u001B[39mshape\u001B[38;5;132;01m}\u001B[39;00m\u001B[38;5;124m and \u001B[39m\u001B[38;5;132;01m{\u001B[39;00my\u001B[38;5;241m.\u001B[39mshape\u001B[38;5;132;01m}\u001B[39;00m\u001B[38;5;124m\"\u001B[39m)\n\u001B[0;32m    501\u001B[0m \u001B[38;5;28;01mif\u001B[39;00m x\u001B[38;5;241m.\u001B[39mndim \u001B[38;5;241m>\u001B[39m \u001B[38;5;241m2\u001B[39m \u001B[38;5;129;01mor\u001B[39;00m y\u001B[38;5;241m.\u001B[39mndim \u001B[38;5;241m>\u001B[39m \u001B[38;5;241m2\u001B[39m:\n\u001B[0;32m    502\u001B[0m     \u001B[38;5;28;01mraise\u001B[39;00m \u001B[38;5;167;01mValueError\u001B[39;00m(\u001B[38;5;124mf\u001B[39m\u001B[38;5;124m\"\u001B[39m\u001B[38;5;124mx and y can be no greater than 2D, but have \u001B[39m\u001B[38;5;124m\"\u001B[39m\n\u001B[0;32m    503\u001B[0m                      \u001B[38;5;124mf\u001B[39m\u001B[38;5;124m\"\u001B[39m\u001B[38;5;124mshapes \u001B[39m\u001B[38;5;132;01m{\u001B[39;00mx\u001B[38;5;241m.\u001B[39mshape\u001B[38;5;132;01m}\u001B[39;00m\u001B[38;5;124m and \u001B[39m\u001B[38;5;132;01m{\u001B[39;00my\u001B[38;5;241m.\u001B[39mshape\u001B[38;5;132;01m}\u001B[39;00m\u001B[38;5;124m\"\u001B[39m)\n",
      "\u001B[1;31mValueError\u001B[0m: x and y must have same first dimension, but have shapes (80,) and (76,)"
     ]
    },
    {
     "data": {
      "text/plain": "<Figure size 1000x500 with 1 Axes>",
      "image/png": "[encoded data removed]"
     },
     "metadata": {},
     "output_type": "display_data"
    }
   ],
   "source": [],
   "metadata": {
    "collapsed": false,
    "ExecuteTime": {
     "end_time": "2024-05-07T13:26:38.415782400Z",
     "start_time": "2024-05-07T13:26:38.314383Z"
    }
   }
  },
  {
   "cell_type": "code",
   "execution_count": 18,
   "outputs": [
    {
     "name": "stdout",
     "output_type": "stream",
     "text": [
      "Confusion matrix, without normalization\n",
      "[[4. 1. 0.]\n",
      " [1. 2. 0.]\n",
      " [0. 0. 3.]]\n"
     ]
    },
    {
     "ename": "ValueError",
     "evalue": "Unknown format code 'd' for object of type 'float'",
     "output_type": "error",
     "traceback": [
      "\u001B[1;31m---------------------------------------------------------------------------\u001B[0m",
      "\u001B[1;31mValueError\u001B[0m                                Traceback (most recent call last)",
      "Cell \u001B[1;32mIn[18], line 46\u001B[0m\n\u001B[0;32m     44\u001B[0m \u001B[38;5;66;03m# Plot non-normalized confusion matrix\u001B[39;00m\n\u001B[0;32m     45\u001B[0m plt\u001B[38;5;241m.\u001B[39mfigure()\n\u001B[1;32m---> 46\u001B[0m plot_confusion_matrix(conf_matrix, classes\u001B[38;5;241m=\u001B[39mclasses, title\u001B[38;5;241m=\u001B[39m\u001B[38;5;124m'\u001B[39m\u001B[38;5;124mConfusion matrix, without normalization\u001B[39m\u001B[38;5;124m'\u001B[39m)\n\u001B[0;32m     48\u001B[0m \u001B[38;5;66;03m# Plot normalized confusion matrix\u001B[39;00m\n\u001B[0;32m     49\u001B[0m plt\u001B[38;5;241m.\u001B[39mfigure()\n",
      "Cell \u001B[1;32mIn[18], line 28\u001B[0m, in \u001B[0;36mplot_confusion_matrix\u001B[1;34m(cm, classes, normalize, title, cmap)\u001B[0m\n\u001B[0;32m     26\u001B[0m \u001B[38;5;28;01mfor\u001B[39;00m i \u001B[38;5;129;01min\u001B[39;00m \u001B[38;5;28mrange\u001B[39m(cm\u001B[38;5;241m.\u001B[39mshape[\u001B[38;5;241m0\u001B[39m]):\n\u001B[0;32m     27\u001B[0m     \u001B[38;5;28;01mfor\u001B[39;00m j \u001B[38;5;129;01min\u001B[39;00m \u001B[38;5;28mrange\u001B[39m(cm\u001B[38;5;241m.\u001B[39mshape[\u001B[38;5;241m1\u001B[39m]):\n\u001B[1;32m---> 28\u001B[0m         plt\u001B[38;5;241m.\u001B[39mtext(j, i, \u001B[38;5;28mformat\u001B[39m(cm[i, j], fmt),\n\u001B[0;32m     29\u001B[0m                  ha\u001B[38;5;241m=\u001B[39m\u001B[38;5;124m\"\u001B[39m\u001B[38;5;124mcenter\u001B[39m\u001B[38;5;124m\"\u001B[39m, va\u001B[38;5;241m=\u001B[39m\u001B[38;5;124m\"\u001B[39m\u001B[38;5;124mcenter\u001B[39m\u001B[38;5;124m\"\u001B[39m,\n\u001B[0;32m     30\u001B[0m                  color\u001B[38;5;241m=\u001B[39m\u001B[38;5;124m\"\u001B[39m\u001B[38;5;124mwhite\u001B[39m\u001B[38;5;124m\"\u001B[39m \u001B[38;5;28;01mif\u001B[39;00m cm[i, j] \u001B[38;5;241m>\u001B[39m thresh \u001B[38;5;28;01melse\u001B[39;00m \u001B[38;5;124m\"\u001B[39m\u001B[38;5;124mblack\u001B[39m\u001B[38;5;124m\"\u001B[39m)\n\u001B[0;32m     32\u001B[0m plt\u001B[38;5;241m.\u001B[39mylabel(\u001B[38;5;124m'\u001B[39m\u001B[38;5;124mTrue label\u001B[39m\u001B[38;5;124m'\u001B[39m)\n\u001B[0;32m     33\u001B[0m plt\u001B[38;5;241m.\u001B[39mxlabel(\u001B[38;5;124m'\u001B[39m\u001B[38;5;124mPredicted label\u001B[39m\u001B[38;5;124m'\u001B[39m)\n",
      "\u001B[1;31mValueError\u001B[0m: Unknown format code 'd' for object of type 'float'"
     ]
    },
    {
     "data": {
      "text/plain": "<Figure size 640x480 with 2 Axes>",
      "image/png": "[encoded data removed]"
     },
     "metadata": {},
     "output_type": "display_data"
    }
   ],
   "source": [],
   "metadata": {
    "collapsed": false,
    "ExecuteTime": {
     "end_time": "2024-05-07T13:28:39.081454500Z",
     "start_time": "2024-05-07T13:28:38.924243600Z"
    }
   }
  },
  {
   "cell_type": "code",
   "execution_count": 1,
   "outputs": [
    {
     "name": "stdout",
     "output_type": "stream",
     "text": [
      "False\n"
     ]
    }
   ],
   "source": [
    "import torch\n",
    "print(torch.cuda.is_available())"
   ],
   "metadata": {
    "collapsed": false,
    "ExecuteTime": {
     "end_time": "2024-05-13T12:20:32.732389200Z",
     "start_time": "2024-05-13T12:20:31.031781600Z"
    }
   }
  },
  {
   "cell_type": "code",
   "execution_count": 1,
   "outputs": [
    {
     "name": "stdout",
     "output_type": "stream",
     "text": [
      "0\n",
      "0\n"
     ]
    }
   ],
   "source": [
    "import torch\n",
    "print(torch.cuda.memory_allocated())  # 返回当前分配的显存量\n",
    "print(torch.cuda.memory_reserved())   # 返回当前预留的显存总量"
   ],
   "metadata": {
    "collapsed": false,
    "ExecuteTime": {
     "end_time": "2024-05-15T06:09:55.450922500Z",
     "start_time": "2024-05-15T06:09:53.156525700Z"
    }
   }
  },
  {
   "cell_type": "code",
   "execution_count": 5,
   "outputs": [
    {
     "name": "stdout",
     "output_type": "stream",
     "text": [
      "Is CUDA available: True\n",
      "CUDA Device Name: NVIDIA GeForce RTX 3050 Laptop GPU\n",
      "Tensor on GPU: tensor([1., 2., 3.], device='cuda:0')\n",
      "Memory Allocated: 512\n",
      "Memory Reserved: 2097152\n",
      "Memory Allocated After Computation: 12001280\n"
     ]
    }
   ],
   "source": [
    "import torch\n",
    "print(\"Is CUDA available:\", torch.cuda.is_available())\n",
    "if torch.cuda.is_available():\n",
    "    print(\"CUDA Device Name:\", torch.cuda.get_device_name(0))\n",
    "if torch.cuda.is_available():\n",
    "    # 创建一个张量并移动到 GPU 上\n",
    "    x = torch.tensor([1.0, 2.0, 3.0]).cuda()\n",
    "    print(\"Tensor on GPU:\", x)\n",
    "\n",
    "    # 检查显存使用情况\n",
    "    print(\"Memory Allocated:\", torch.cuda.memory_allocated())\n",
    "    print(\"Memory Reserved:\", torch.cuda.memory_reserved())\n",
    "if torch.cuda.is_available():\n",
    "    a = torch.randn(1000, 1000, device=\"cuda\")\n",
    "    b = torch.randn(1000, 1000, device=\"cuda\")\n",
    "    c = a + b  # 执行 GPU 上的计算\n",
    "    print(\"Memory Allocated After Computation:\", torch.cuda.memory_allocated())\n"
   ],
   "metadata": {
    "collapsed": false,
    "ExecuteTime": {
     "end_time": "2024-05-15T06:11:33.202019500Z",
     "start_time": "2024-05-15T06:11:33.155171900Z"
    }
   }
  },
  {
   "cell_type": "code",
   "execution_count": null,
   "outputs": [],
   "source": [],
   "metadata": {
    "collapsed": false
   }
  }
 ],
 "metadata": {
  "kernelspec": {
   "display_name": "Python 3",
   "language": "python",
   "name": "python3"
  },
  "language_info": {
   "codemirror_mode": {
    "name": "ipython",
    "version": 2
   },
   "file_extension": ".py",
   "mimetype": "text/x-python",
   "name": "python",
   "nbconvert_exporter": "python",
   "pygments_lexer": "ipython2",
   "version": "2.7.6"
  }
 },
 "nbformat": 4,
 "nbformat_minor": 0
}
